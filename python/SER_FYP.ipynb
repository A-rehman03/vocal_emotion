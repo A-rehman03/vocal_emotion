{
  "cells": [
    {
      "cell_type": "markdown",
      "metadata": {
        "id": "USUu2PSdV4H3"
      },
      "source": [
        "# Speech Emotion Recognition with CNN-BiLSTM-Attention\n",
        "\n",
        "This notebook implements Speech Emotion Recognition (SER) using **CNN + BiLSTM + Attention**, with added improvements:\n",
        "- Noise Reduction (Preprocessing)\n",
        "- 3-second Segmentation of Audio Files\n",
        "- Learning Rate Scheduler\n",
        "- Train/Validation/Test Split (70/15/15)\n",
        "- Early Stopping to prevent overfitting\n",
        "- Visualizations: Dataset summary, audio waveform, spectrograms, training/validation curves\n",
        "\n",
        "This setup is designed for professional research (Final Year Project quality)."
      ]
    },
    {
      "cell_type": "code",
      "metadata": {
        "colab": {
          "base_uri": "https://localhost:8080/"
        },
        "id": "rAsREcWBV4H7",
        "outputId": "6cae8bee-0e30-485e-cf83-18f874c231d2"
      },
      "source": [
        "import os\n",
        "import numpy as np\n",
        "import librosa\n",
        "import librosa.display\n",
        "import matplotlib.pyplot as plt\n",
        "import tensorflow as tf\n",
        "from tensorflow.keras import layers, models, optimizers, callbacks\n",
        "from sklearn.model_selection import train_test_split\n",
        "from sklearn.preprocessing import LabelEncoder\n",
        "import IPython.display as ipd\n",
        "\n",
        "print(\"TensorFlow version:\", tf.__version__)"
      ],
      "execution_count": 1,
      "outputs": [
        {
          "output_type": "stream",
          "name": "stdout",
          "text": [
            "TensorFlow version: 2.19.0\n"
          ]
        }
      ]
    },
    {
      "cell_type": "code",
      "source": [
        "# Load the Drive helper and mount\n",
        "from google.colab import drive\n",
        "\n",
        "# This will prompt for authorization\n",
        "drive.mount('/content/drive')"
      ],
      "metadata": {
        "colab": {
          "base_uri": "https://localhost:8080/"
        },
        "id": "I2_-jp1-V8WV",
        "outputId": "6e1d670a-8696-4c76-bf76-72fd50935939"
      },
      "execution_count": 2,
      "outputs": [
        {
          "output_type": "stream",
          "name": "stdout",
          "text": [
            "Mounted at /content/drive\n"
          ]
        }
      ]
    },
    {
      "cell_type": "code",
      "source": [
        "!pwd"
      ],
      "metadata": {
        "colab": {
          "base_uri": "https://localhost:8080/"
        },
        "id": "NroBJr2-V907",
        "outputId": "662d22d6-6186-488e-b72a-b58e42b06e0b"
      },
      "execution_count": 3,
      "outputs": [
        {
          "output_type": "stream",
          "name": "stdout",
          "text": [
            "/content\n"
          ]
        }
      ]
    },
    {
      "cell_type": "code",
      "source": [
        "cd drive/'My Drive'/'Colab Notebooks'/'Emotion Speech Recognition'/"
      ],
      "metadata": {
        "colab": {
          "base_uri": "https://localhost:8080/"
        },
        "id": "fkkzNhoTV-IP",
        "outputId": "113bbf8e-2eb9-4116-a415-e21c63062549"
      },
      "execution_count": 4,
      "outputs": [
        {
          "output_type": "stream",
          "name": "stdout",
          "text": [
            "/content/drive/My Drive/Colab Notebooks/Emotion Speech Recognition\n"
          ]
        }
      ]
    },
    {
      "cell_type": "markdown",
      "metadata": {
        "id": "4nN8kw7XV4H8"
      },
      "source": [
        "## Load Dataset and Apply Noise Reduction"
      ]
    },
    {
      "cell_type": "code",
      "metadata": {
        "id": "7j-N_J3HV4H8"
      },
      "source": [
        "# Example path (update with your dataset path)\n",
        "DATASET_PATH = \"./Dataset\"\n",
        "\n",
        "def reduce_noise(audio, sr):\n",
        "    # Simple noise reduction by spectral gating\n",
        "    spec = librosa.stft(audio)\n",
        "    mag, phase = librosa.magphase(spec)\n",
        "    noise_profile = np.mean(mag, axis=1, keepdims=True)\n",
        "    mask = mag > noise_profile\n",
        "    cleaned = mask * mag * phase\n",
        "    return librosa.istft(cleaned)\n",
        "\n",
        "def extract_features(file_path, sr=22050, max_len=3):\n",
        "    audio, sr = librosa.load(file_path, sr=sr)\n",
        "    audio = reduce_noise(audio, sr)\n",
        "    # Ensure 3s segmentation\n",
        "    if len(audio) > sr*max_len:\n",
        "        audio = audio[:sr*max_len]\n",
        "    else:\n",
        "        pad = sr*max_len - len(audio)\n",
        "        audio = np.pad(audio, (0, pad))\n",
        "    mfccs = librosa.feature.mfcc(y=audio, sr=sr, n_mfcc=40)\n",
        "    return mfccs.T"
      ],
      "execution_count": 5,
      "outputs": []
    },
    {
      "cell_type": "markdown",
      "metadata": {
        "id": "WrNAZET8V4H9"
      },
      "source": [
        "## Dataset Preparation with Train/Validation/Test Split"
      ]
    },
    {
      "cell_type": "code",
      "metadata": {
        "colab": {
          "base_uri": "https://localhost:8080/"
        },
        "id": "fsLGPPw8V4H9",
        "outputId": "6202f160-4126-48be-e0b8-3e9a6f541b93"
      },
      "source": [
        "X, y = [], []\n",
        "labels = os.listdir(DATASET_PATH)\n",
        "for label in labels:\n",
        "    files = os.listdir(os.path.join(DATASET_PATH, label))\n",
        "    for f in files:\n",
        "        path = os.path.join(DATASET_PATH, label, f)\n",
        "        feature = extract_features(path)\n",
        "        X.append(feature)\n",
        "        y.append(label)\n",
        "\n",
        "X = np.array(X)\n",
        "y = LabelEncoder().fit_transform(y)\n",
        "X = np.expand_dims(X, -1)\n",
        "\n",
        "# Split 70/15/15\n",
        "X_train, X_temp, y_train, y_temp = train_test_split(X, y, test_size=0.30, stratify=y, random_state=42)\n",
        "X_val, X_test, y_val, y_test = train_test_split(X_temp, y_temp, test_size=0.50, stratify=y_temp, random_state=42)\n",
        "\n",
        "print(\"Train:\", X_train.shape, \"Val:\", X_val.shape, \"Test:\", X_test.shape)"
      ],
      "execution_count": 6,
      "outputs": [
        {
          "output_type": "stream",
          "name": "stdout",
          "text": [
            "Train: (1799, 130, 40, 1) Val: (386, 130, 40, 1) Test: (386, 130, 40, 1)\n"
          ]
        }
      ]
    },
    {
      "cell_type": "markdown",
      "metadata": {
        "id": "XClXqWTfV4H-"
      },
      "source": [
        "## Model: CNN + BiLSTM + Attention"
      ]
    },
    {
      "cell_type": "code",
      "metadata": {
        "colab": {
          "base_uri": "https://localhost:8080/",
          "height": 799
        },
        "id": "TEr48Hs2V4H-",
        "outputId": "1fabf0c7-de86-4ae6-de7f-7abb1b3ee0a6"
      },
      "source": [
        "def attention_block(inputs):\n",
        "    attention = layers.Dense(1, activation='tanh')(inputs)\n",
        "    attention = layers.Flatten()(attention)\n",
        "    attention = layers.Activation('softmax')(attention)\n",
        "    attention = layers.RepeatVector(inputs.shape[-1])(attention)\n",
        "    attention = layers.Permute([2,1])(attention)\n",
        "    return layers.Multiply()([inputs, attention])\n",
        "\n",
        "inputs = layers.Input(shape=(X.shape[1], X.shape[2], 1))\n",
        "x = layers.Conv2D(32, (3,3), activation='relu')(inputs)\n",
        "x = layers.MaxPooling2D((2,2))(x)\n",
        "x = layers.Dropout(0.3)(x)\n",
        "x = layers.Reshape((x.shape[1], x.shape[2]*x.shape[3]))(x)\n",
        "x = layers.Bidirectional(layers.LSTM(64, return_sequences=True))(x)\n",
        "x = attention_block(x)\n",
        "x = layers.GlobalAveragePooling1D()(x)\n",
        "x = layers.Dense(64, activation='relu')(x)\n",
        "outputs = layers.Dense(len(np.unique(y)), activation='softmax')(x)\n",
        "\n",
        "model = models.Model(inputs, outputs)\n",
        "model.compile(optimizer=optimizers.Adam(1e-3), loss='sparse_categorical_crossentropy', metrics=['accuracy'])\n",
        "model.summary()"
      ],
      "execution_count": 7,
      "outputs": [
        {
          "output_type": "display_data",
          "data": {
            "text/plain": [
              "\u001b[1mModel: \"functional\"\u001b[0m\n"
            ],
            "text/html": [
              "<pre style=\"white-space:pre;overflow-x:auto;line-height:normal;font-family:Menlo,'DejaVu Sans Mono',consolas,'Courier New',monospace\"><span style=\"font-weight: bold\">Model: \"functional\"</span>\n",
              "</pre>\n"
            ]
          },
          "metadata": {}
        },
        {
          "output_type": "display_data",
          "data": {
            "text/plain": [
              "┏━━━━━━━━━━━━━━━━━━━━━┳━━━━━━━━━━━━━━━━━━━┳━━━━━━━━━━━━┳━━━━━━━━━━━━━━━━━━━┓\n",
              "┃\u001b[1m \u001b[0m\u001b[1mLayer (type)       \u001b[0m\u001b[1m \u001b[0m┃\u001b[1m \u001b[0m\u001b[1mOutput Shape     \u001b[0m\u001b[1m \u001b[0m┃\u001b[1m \u001b[0m\u001b[1m   Param #\u001b[0m\u001b[1m \u001b[0m┃\u001b[1m \u001b[0m\u001b[1mConnected to     \u001b[0m\u001b[1m \u001b[0m┃\n",
              "┡━━━━━━━━━━━━━━━━━━━━━╇━━━━━━━━━━━━━━━━━━━╇━━━━━━━━━━━━╇━━━━━━━━━━━━━━━━━━━┩\n",
              "│ input_layer         │ (\u001b[38;5;45mNone\u001b[0m, \u001b[38;5;34m130\u001b[0m, \u001b[38;5;34m40\u001b[0m,   │          \u001b[38;5;34m0\u001b[0m │ -                 │\n",
              "│ (\u001b[38;5;33mInputLayer\u001b[0m)        │ \u001b[38;5;34m1\u001b[0m)                │            │                   │\n",
              "├─────────────────────┼───────────────────┼────────────┼───────────────────┤\n",
              "│ conv2d (\u001b[38;5;33mConv2D\u001b[0m)     │ (\u001b[38;5;45mNone\u001b[0m, \u001b[38;5;34m128\u001b[0m, \u001b[38;5;34m38\u001b[0m,   │        \u001b[38;5;34m320\u001b[0m │ input_layer[\u001b[38;5;34m0\u001b[0m][\u001b[38;5;34m0\u001b[0m] │\n",
              "│                     │ \u001b[38;5;34m32\u001b[0m)               │            │                   │\n",
              "├─────────────────────┼───────────────────┼────────────┼───────────────────┤\n",
              "│ max_pooling2d       │ (\u001b[38;5;45mNone\u001b[0m, \u001b[38;5;34m64\u001b[0m, \u001b[38;5;34m19\u001b[0m,    │          \u001b[38;5;34m0\u001b[0m │ conv2d[\u001b[38;5;34m0\u001b[0m][\u001b[38;5;34m0\u001b[0m]      │\n",
              "│ (\u001b[38;5;33mMaxPooling2D\u001b[0m)      │ \u001b[38;5;34m32\u001b[0m)               │            │                   │\n",
              "├─────────────────────┼───────────────────┼────────────┼───────────────────┤\n",
              "│ dropout (\u001b[38;5;33mDropout\u001b[0m)   │ (\u001b[38;5;45mNone\u001b[0m, \u001b[38;5;34m64\u001b[0m, \u001b[38;5;34m19\u001b[0m,    │          \u001b[38;5;34m0\u001b[0m │ max_pooling2d[\u001b[38;5;34m0\u001b[0m]… │\n",
              "│                     │ \u001b[38;5;34m32\u001b[0m)               │            │                   │\n",
              "├─────────────────────┼───────────────────┼────────────┼───────────────────┤\n",
              "│ reshape (\u001b[38;5;33mReshape\u001b[0m)   │ (\u001b[38;5;45mNone\u001b[0m, \u001b[38;5;34m64\u001b[0m, \u001b[38;5;34m608\u001b[0m)   │          \u001b[38;5;34m0\u001b[0m │ dropout[\u001b[38;5;34m0\u001b[0m][\u001b[38;5;34m0\u001b[0m]     │\n",
              "├─────────────────────┼───────────────────┼────────────┼───────────────────┤\n",
              "│ bidirectional       │ (\u001b[38;5;45mNone\u001b[0m, \u001b[38;5;34m64\u001b[0m, \u001b[38;5;34m128\u001b[0m)   │    \u001b[38;5;34m344,576\u001b[0m │ reshape[\u001b[38;5;34m0\u001b[0m][\u001b[38;5;34m0\u001b[0m]     │\n",
              "│ (\u001b[38;5;33mBidirectional\u001b[0m)     │                   │            │                   │\n",
              "├─────────────────────┼───────────────────┼────────────┼───────────────────┤\n",
              "│ dense (\u001b[38;5;33mDense\u001b[0m)       │ (\u001b[38;5;45mNone\u001b[0m, \u001b[38;5;34m64\u001b[0m, \u001b[38;5;34m1\u001b[0m)     │        \u001b[38;5;34m129\u001b[0m │ bidirectional[\u001b[38;5;34m0\u001b[0m]… │\n",
              "├─────────────────────┼───────────────────┼────────────┼───────────────────┤\n",
              "│ flatten (\u001b[38;5;33mFlatten\u001b[0m)   │ (\u001b[38;5;45mNone\u001b[0m, \u001b[38;5;34m64\u001b[0m)        │          \u001b[38;5;34m0\u001b[0m │ dense[\u001b[38;5;34m0\u001b[0m][\u001b[38;5;34m0\u001b[0m]       │\n",
              "├─────────────────────┼───────────────────┼────────────┼───────────────────┤\n",
              "│ activation          │ (\u001b[38;5;45mNone\u001b[0m, \u001b[38;5;34m64\u001b[0m)        │          \u001b[38;5;34m0\u001b[0m │ flatten[\u001b[38;5;34m0\u001b[0m][\u001b[38;5;34m0\u001b[0m]     │\n",
              "│ (\u001b[38;5;33mActivation\u001b[0m)        │                   │            │                   │\n",
              "├─────────────────────┼───────────────────┼────────────┼───────────────────┤\n",
              "│ repeat_vector       │ (\u001b[38;5;45mNone\u001b[0m, \u001b[38;5;34m128\u001b[0m, \u001b[38;5;34m64\u001b[0m)   │          \u001b[38;5;34m0\u001b[0m │ activation[\u001b[38;5;34m0\u001b[0m][\u001b[38;5;34m0\u001b[0m]  │\n",
              "│ (\u001b[38;5;33mRepeatVector\u001b[0m)      │                   │            │                   │\n",
              "├─────────────────────┼───────────────────┼────────────┼───────────────────┤\n",
              "│ permute (\u001b[38;5;33mPermute\u001b[0m)   │ (\u001b[38;5;45mNone\u001b[0m, \u001b[38;5;34m64\u001b[0m, \u001b[38;5;34m128\u001b[0m)   │          \u001b[38;5;34m0\u001b[0m │ repeat_vector[\u001b[38;5;34m0\u001b[0m]… │\n",
              "├─────────────────────┼───────────────────┼────────────┼───────────────────┤\n",
              "│ multiply (\u001b[38;5;33mMultiply\u001b[0m) │ (\u001b[38;5;45mNone\u001b[0m, \u001b[38;5;34m64\u001b[0m, \u001b[38;5;34m128\u001b[0m)   │          \u001b[38;5;34m0\u001b[0m │ bidirectional[\u001b[38;5;34m0\u001b[0m]… │\n",
              "│                     │                   │            │ permute[\u001b[38;5;34m0\u001b[0m][\u001b[38;5;34m0\u001b[0m]     │\n",
              "├─────────────────────┼───────────────────┼────────────┼───────────────────┤\n",
              "│ global_average_poo… │ (\u001b[38;5;45mNone\u001b[0m, \u001b[38;5;34m128\u001b[0m)       │          \u001b[38;5;34m0\u001b[0m │ multiply[\u001b[38;5;34m0\u001b[0m][\u001b[38;5;34m0\u001b[0m]    │\n",
              "│ (\u001b[38;5;33mGlobalAveragePool…\u001b[0m │                   │            │                   │\n",
              "├─────────────────────┼───────────────────┼────────────┼───────────────────┤\n",
              "│ dense_1 (\u001b[38;5;33mDense\u001b[0m)     │ (\u001b[38;5;45mNone\u001b[0m, \u001b[38;5;34m64\u001b[0m)        │      \u001b[38;5;34m8,256\u001b[0m │ global_average_p… │\n",
              "├─────────────────────┼───────────────────┼────────────┼───────────────────┤\n",
              "│ dense_2 (\u001b[38;5;33mDense\u001b[0m)     │ (\u001b[38;5;45mNone\u001b[0m, \u001b[38;5;34m7\u001b[0m)         │        \u001b[38;5;34m455\u001b[0m │ dense_1[\u001b[38;5;34m0\u001b[0m][\u001b[38;5;34m0\u001b[0m]     │\n",
              "└─────────────────────┴───────────────────┴────────────┴───────────────────┘\n"
            ],
            "text/html": [
              "<pre style=\"white-space:pre;overflow-x:auto;line-height:normal;font-family:Menlo,'DejaVu Sans Mono',consolas,'Courier New',monospace\">┏━━━━━━━━━━━━━━━━━━━━━┳━━━━━━━━━━━━━━━━━━━┳━━━━━━━━━━━━┳━━━━━━━━━━━━━━━━━━━┓\n",
              "┃<span style=\"font-weight: bold\"> Layer (type)        </span>┃<span style=\"font-weight: bold\"> Output Shape      </span>┃<span style=\"font-weight: bold\">    Param # </span>┃<span style=\"font-weight: bold\"> Connected to      </span>┃\n",
              "┡━━━━━━━━━━━━━━━━━━━━━╇━━━━━━━━━━━━━━━━━━━╇━━━━━━━━━━━━╇━━━━━━━━━━━━━━━━━━━┩\n",
              "│ input_layer         │ (<span style=\"color: #00d7ff; text-decoration-color: #00d7ff\">None</span>, <span style=\"color: #00af00; text-decoration-color: #00af00\">130</span>, <span style=\"color: #00af00; text-decoration-color: #00af00\">40</span>,   │          <span style=\"color: #00af00; text-decoration-color: #00af00\">0</span> │ -                 │\n",
              "│ (<span style=\"color: #0087ff; text-decoration-color: #0087ff\">InputLayer</span>)        │ <span style=\"color: #00af00; text-decoration-color: #00af00\">1</span>)                │            │                   │\n",
              "├─────────────────────┼───────────────────┼────────────┼───────────────────┤\n",
              "│ conv2d (<span style=\"color: #0087ff; text-decoration-color: #0087ff\">Conv2D</span>)     │ (<span style=\"color: #00d7ff; text-decoration-color: #00d7ff\">None</span>, <span style=\"color: #00af00; text-decoration-color: #00af00\">128</span>, <span style=\"color: #00af00; text-decoration-color: #00af00\">38</span>,   │        <span style=\"color: #00af00; text-decoration-color: #00af00\">320</span> │ input_layer[<span style=\"color: #00af00; text-decoration-color: #00af00\">0</span>][<span style=\"color: #00af00; text-decoration-color: #00af00\">0</span>] │\n",
              "│                     │ <span style=\"color: #00af00; text-decoration-color: #00af00\">32</span>)               │            │                   │\n",
              "├─────────────────────┼───────────────────┼────────────┼───────────────────┤\n",
              "│ max_pooling2d       │ (<span style=\"color: #00d7ff; text-decoration-color: #00d7ff\">None</span>, <span style=\"color: #00af00; text-decoration-color: #00af00\">64</span>, <span style=\"color: #00af00; text-decoration-color: #00af00\">19</span>,    │          <span style=\"color: #00af00; text-decoration-color: #00af00\">0</span> │ conv2d[<span style=\"color: #00af00; text-decoration-color: #00af00\">0</span>][<span style=\"color: #00af00; text-decoration-color: #00af00\">0</span>]      │\n",
              "│ (<span style=\"color: #0087ff; text-decoration-color: #0087ff\">MaxPooling2D</span>)      │ <span style=\"color: #00af00; text-decoration-color: #00af00\">32</span>)               │            │                   │\n",
              "├─────────────────────┼───────────────────┼────────────┼───────────────────┤\n",
              "│ dropout (<span style=\"color: #0087ff; text-decoration-color: #0087ff\">Dropout</span>)   │ (<span style=\"color: #00d7ff; text-decoration-color: #00d7ff\">None</span>, <span style=\"color: #00af00; text-decoration-color: #00af00\">64</span>, <span style=\"color: #00af00; text-decoration-color: #00af00\">19</span>,    │          <span style=\"color: #00af00; text-decoration-color: #00af00\">0</span> │ max_pooling2d[<span style=\"color: #00af00; text-decoration-color: #00af00\">0</span>]… │\n",
              "│                     │ <span style=\"color: #00af00; text-decoration-color: #00af00\">32</span>)               │            │                   │\n",
              "├─────────────────────┼───────────────────┼────────────┼───────────────────┤\n",
              "│ reshape (<span style=\"color: #0087ff; text-decoration-color: #0087ff\">Reshape</span>)   │ (<span style=\"color: #00d7ff; text-decoration-color: #00d7ff\">None</span>, <span style=\"color: #00af00; text-decoration-color: #00af00\">64</span>, <span style=\"color: #00af00; text-decoration-color: #00af00\">608</span>)   │          <span style=\"color: #00af00; text-decoration-color: #00af00\">0</span> │ dropout[<span style=\"color: #00af00; text-decoration-color: #00af00\">0</span>][<span style=\"color: #00af00; text-decoration-color: #00af00\">0</span>]     │\n",
              "├─────────────────────┼───────────────────┼────────────┼───────────────────┤\n",
              "│ bidirectional       │ (<span style=\"color: #00d7ff; text-decoration-color: #00d7ff\">None</span>, <span style=\"color: #00af00; text-decoration-color: #00af00\">64</span>, <span style=\"color: #00af00; text-decoration-color: #00af00\">128</span>)   │    <span style=\"color: #00af00; text-decoration-color: #00af00\">344,576</span> │ reshape[<span style=\"color: #00af00; text-decoration-color: #00af00\">0</span>][<span style=\"color: #00af00; text-decoration-color: #00af00\">0</span>]     │\n",
              "│ (<span style=\"color: #0087ff; text-decoration-color: #0087ff\">Bidirectional</span>)     │                   │            │                   │\n",
              "├─────────────────────┼───────────────────┼────────────┼───────────────────┤\n",
              "│ dense (<span style=\"color: #0087ff; text-decoration-color: #0087ff\">Dense</span>)       │ (<span style=\"color: #00d7ff; text-decoration-color: #00d7ff\">None</span>, <span style=\"color: #00af00; text-decoration-color: #00af00\">64</span>, <span style=\"color: #00af00; text-decoration-color: #00af00\">1</span>)     │        <span style=\"color: #00af00; text-decoration-color: #00af00\">129</span> │ bidirectional[<span style=\"color: #00af00; text-decoration-color: #00af00\">0</span>]… │\n",
              "├─────────────────────┼───────────────────┼────────────┼───────────────────┤\n",
              "│ flatten (<span style=\"color: #0087ff; text-decoration-color: #0087ff\">Flatten</span>)   │ (<span style=\"color: #00d7ff; text-decoration-color: #00d7ff\">None</span>, <span style=\"color: #00af00; text-decoration-color: #00af00\">64</span>)        │          <span style=\"color: #00af00; text-decoration-color: #00af00\">0</span> │ dense[<span style=\"color: #00af00; text-decoration-color: #00af00\">0</span>][<span style=\"color: #00af00; text-decoration-color: #00af00\">0</span>]       │\n",
              "├─────────────────────┼───────────────────┼────────────┼───────────────────┤\n",
              "│ activation          │ (<span style=\"color: #00d7ff; text-decoration-color: #00d7ff\">None</span>, <span style=\"color: #00af00; text-decoration-color: #00af00\">64</span>)        │          <span style=\"color: #00af00; text-decoration-color: #00af00\">0</span> │ flatten[<span style=\"color: #00af00; text-decoration-color: #00af00\">0</span>][<span style=\"color: #00af00; text-decoration-color: #00af00\">0</span>]     │\n",
              "│ (<span style=\"color: #0087ff; text-decoration-color: #0087ff\">Activation</span>)        │                   │            │                   │\n",
              "├─────────────────────┼───────────────────┼────────────┼───────────────────┤\n",
              "│ repeat_vector       │ (<span style=\"color: #00d7ff; text-decoration-color: #00d7ff\">None</span>, <span style=\"color: #00af00; text-decoration-color: #00af00\">128</span>, <span style=\"color: #00af00; text-decoration-color: #00af00\">64</span>)   │          <span style=\"color: #00af00; text-decoration-color: #00af00\">0</span> │ activation[<span style=\"color: #00af00; text-decoration-color: #00af00\">0</span>][<span style=\"color: #00af00; text-decoration-color: #00af00\">0</span>]  │\n",
              "│ (<span style=\"color: #0087ff; text-decoration-color: #0087ff\">RepeatVector</span>)      │                   │            │                   │\n",
              "├─────────────────────┼───────────────────┼────────────┼───────────────────┤\n",
              "│ permute (<span style=\"color: #0087ff; text-decoration-color: #0087ff\">Permute</span>)   │ (<span style=\"color: #00d7ff; text-decoration-color: #00d7ff\">None</span>, <span style=\"color: #00af00; text-decoration-color: #00af00\">64</span>, <span style=\"color: #00af00; text-decoration-color: #00af00\">128</span>)   │          <span style=\"color: #00af00; text-decoration-color: #00af00\">0</span> │ repeat_vector[<span style=\"color: #00af00; text-decoration-color: #00af00\">0</span>]… │\n",
              "├─────────────────────┼───────────────────┼────────────┼───────────────────┤\n",
              "│ multiply (<span style=\"color: #0087ff; text-decoration-color: #0087ff\">Multiply</span>) │ (<span style=\"color: #00d7ff; text-decoration-color: #00d7ff\">None</span>, <span style=\"color: #00af00; text-decoration-color: #00af00\">64</span>, <span style=\"color: #00af00; text-decoration-color: #00af00\">128</span>)   │          <span style=\"color: #00af00; text-decoration-color: #00af00\">0</span> │ bidirectional[<span style=\"color: #00af00; text-decoration-color: #00af00\">0</span>]… │\n",
              "│                     │                   │            │ permute[<span style=\"color: #00af00; text-decoration-color: #00af00\">0</span>][<span style=\"color: #00af00; text-decoration-color: #00af00\">0</span>]     │\n",
              "├─────────────────────┼───────────────────┼────────────┼───────────────────┤\n",
              "│ global_average_poo… │ (<span style=\"color: #00d7ff; text-decoration-color: #00d7ff\">None</span>, <span style=\"color: #00af00; text-decoration-color: #00af00\">128</span>)       │          <span style=\"color: #00af00; text-decoration-color: #00af00\">0</span> │ multiply[<span style=\"color: #00af00; text-decoration-color: #00af00\">0</span>][<span style=\"color: #00af00; text-decoration-color: #00af00\">0</span>]    │\n",
              "│ (<span style=\"color: #0087ff; text-decoration-color: #0087ff\">GlobalAveragePool…</span> │                   │            │                   │\n",
              "├─────────────────────┼───────────────────┼────────────┼───────────────────┤\n",
              "│ dense_1 (<span style=\"color: #0087ff; text-decoration-color: #0087ff\">Dense</span>)     │ (<span style=\"color: #00d7ff; text-decoration-color: #00d7ff\">None</span>, <span style=\"color: #00af00; text-decoration-color: #00af00\">64</span>)        │      <span style=\"color: #00af00; text-decoration-color: #00af00\">8,256</span> │ global_average_p… │\n",
              "├─────────────────────┼───────────────────┼────────────┼───────────────────┤\n",
              "│ dense_2 (<span style=\"color: #0087ff; text-decoration-color: #0087ff\">Dense</span>)     │ (<span style=\"color: #00d7ff; text-decoration-color: #00d7ff\">None</span>, <span style=\"color: #00af00; text-decoration-color: #00af00\">7</span>)         │        <span style=\"color: #00af00; text-decoration-color: #00af00\">455</span> │ dense_1[<span style=\"color: #00af00; text-decoration-color: #00af00\">0</span>][<span style=\"color: #00af00; text-decoration-color: #00af00\">0</span>]     │\n",
              "└─────────────────────┴───────────────────┴────────────┴───────────────────┘\n",
              "</pre>\n"
            ]
          },
          "metadata": {}
        },
        {
          "output_type": "display_data",
          "data": {
            "text/plain": [
              "\u001b[1m Total params: \u001b[0m\u001b[38;5;34m353,736\u001b[0m (1.35 MB)\n"
            ],
            "text/html": [
              "<pre style=\"white-space:pre;overflow-x:auto;line-height:normal;font-family:Menlo,'DejaVu Sans Mono',consolas,'Courier New',monospace\"><span style=\"font-weight: bold\"> Total params: </span><span style=\"color: #00af00; text-decoration-color: #00af00\">353,736</span> (1.35 MB)\n",
              "</pre>\n"
            ]
          },
          "metadata": {}
        },
        {
          "output_type": "display_data",
          "data": {
            "text/plain": [
              "\u001b[1m Trainable params: \u001b[0m\u001b[38;5;34m353,736\u001b[0m (1.35 MB)\n"
            ],
            "text/html": [
              "<pre style=\"white-space:pre;overflow-x:auto;line-height:normal;font-family:Menlo,'DejaVu Sans Mono',consolas,'Courier New',monospace\"><span style=\"font-weight: bold\"> Trainable params: </span><span style=\"color: #00af00; text-decoration-color: #00af00\">353,736</span> (1.35 MB)\n",
              "</pre>\n"
            ]
          },
          "metadata": {}
        },
        {
          "output_type": "display_data",
          "data": {
            "text/plain": [
              "\u001b[1m Non-trainable params: \u001b[0m\u001b[38;5;34m0\u001b[0m (0.00 B)\n"
            ],
            "text/html": [
              "<pre style=\"white-space:pre;overflow-x:auto;line-height:normal;font-family:Menlo,'DejaVu Sans Mono',consolas,'Courier New',monospace\"><span style=\"font-weight: bold\"> Non-trainable params: </span><span style=\"color: #00af00; text-decoration-color: #00af00\">0</span> (0.00 B)\n",
              "</pre>\n"
            ]
          },
          "metadata": {}
        }
      ]
    },
    {
      "cell_type": "markdown",
      "metadata": {
        "id": "VkDxY3ZdV4H_"
      },
      "source": [
        "## Training with Early Stopping + LR Scheduler"
      ]
    },
    {
      "cell_type": "code",
      "metadata": {
        "colab": {
          "base_uri": "https://localhost:8080/"
        },
        "id": "stBxvkjIV4H_",
        "outputId": "24177b9a-736f-482f-81b9-ea1b508e976d"
      },
      "source": [
        "from tensorflow.keras import callbacks, optimizers\n",
        "\n",
        "epochs = 75  # safe default, early stopping will stop earlier if needed\n",
        "batch_size = 32\n",
        "\n",
        "# Callbacks\n",
        "lr_scheduler = callbacks.ReduceLROnPlateau(\n",
        "    monitor='val_loss',\n",
        "    factor=0.5,\n",
        "    patience=3,\n",
        "    min_lr=1e-6,\n",
        "    verbose=1\n",
        ")\n",
        "\n",
        "early_stopping = callbacks.EarlyStopping(\n",
        "    monitor='val_loss',\n",
        "    patience=8,   # safer for audio data\n",
        "    restore_best_weights=True,\n",
        "    verbose=1\n",
        ")\n",
        "\n",
        "model_checkpoint = callbacks.ModelCheckpoint(\n",
        "    'best_model.h5',\n",
        "    monitor='val_loss',\n",
        "    save_best_only=True,\n",
        "    verbose=1\n",
        ")\n",
        "\n",
        "# Compile (set optimizer with lr)\n",
        "model.compile(optimizer=optimizers.Adam(learning_rate=1e-3),\n",
        "              loss='sparse_categorical_crossentropy',\n",
        "              metrics=['accuracy'])\n",
        "\n",
        "# Train\n",
        "history = model.fit(\n",
        "    X_train, y_train,\n",
        "    validation_data=(X_val, y_val),\n",
        "    epochs=epochs,\n",
        "    batch_size=batch_size,\n",
        "    callbacks=[lr_scheduler, early_stopping, model_checkpoint],\n",
        "    verbose=2\n",
        ")\n"
      ],
      "execution_count": 9,
      "outputs": [
        {
          "output_type": "stream",
          "name": "stdout",
          "text": [
            "Epoch 1/75\n",
            "\n",
            "Epoch 1: val_loss improved from inf to 1.92038, saving model to best_model.h5\n"
          ]
        },
        {
          "output_type": "stream",
          "name": "stderr",
          "text": [
            "WARNING:absl:You are saving your model as an HDF5 file via `model.save()` or `keras.saving.save_model(model)`. This file format is considered legacy. We recommend using instead the native Keras format, e.g. `model.save('my_model.keras')` or `keras.saving.save_model(model, 'my_model.keras')`. \n"
          ]
        },
        {
          "output_type": "stream",
          "name": "stdout",
          "text": [
            "57/57 - 9s - 160ms/step - accuracy: 0.1668 - loss: 1.9318 - val_accuracy: 0.1710 - val_loss: 1.9204 - learning_rate: 1.0000e-03\n",
            "Epoch 2/75\n",
            "\n",
            "Epoch 2: val_loss improved from 1.92038 to 1.87040, saving model to best_model.h5\n"
          ]
        },
        {
          "output_type": "stream",
          "name": "stderr",
          "text": [
            "WARNING:absl:You are saving your model as an HDF5 file via `model.save()` or `keras.saving.save_model(model)`. This file format is considered legacy. We recommend using instead the native Keras format, e.g. `model.save('my_model.keras')` or `keras.saving.save_model(model, 'my_model.keras')`. \n"
          ]
        },
        {
          "output_type": "stream",
          "name": "stdout",
          "text": [
            "57/57 - 1s - 15ms/step - accuracy: 0.2107 - loss: 1.8973 - val_accuracy: 0.2358 - val_loss: 1.8704 - learning_rate: 1.0000e-03\n",
            "Epoch 3/75\n",
            "\n",
            "Epoch 3: val_loss improved from 1.87040 to 1.80908, saving model to best_model.h5\n"
          ]
        },
        {
          "output_type": "stream",
          "name": "stderr",
          "text": [
            "WARNING:absl:You are saving your model as an HDF5 file via `model.save()` or `keras.saving.save_model(model)`. This file format is considered legacy. We recommend using instead the native Keras format, e.g. `model.save('my_model.keras')` or `keras.saving.save_model(model, 'my_model.keras')`. \n"
          ]
        },
        {
          "output_type": "stream",
          "name": "stdout",
          "text": [
            "57/57 - 1s - 15ms/step - accuracy: 0.2496 - loss: 1.8443 - val_accuracy: 0.2332 - val_loss: 1.8091 - learning_rate: 1.0000e-03\n",
            "Epoch 4/75\n",
            "\n",
            "Epoch 4: val_loss improved from 1.80908 to 1.75362, saving model to best_model.h5\n"
          ]
        },
        {
          "output_type": "stream",
          "name": "stderr",
          "text": [
            "WARNING:absl:You are saving your model as an HDF5 file via `model.save()` or `keras.saving.save_model(model)`. This file format is considered legacy. We recommend using instead the native Keras format, e.g. `model.save('my_model.keras')` or `keras.saving.save_model(model, 'my_model.keras')`. \n"
          ]
        },
        {
          "output_type": "stream",
          "name": "stdout",
          "text": [
            "57/57 - 1s - 15ms/step - accuracy: 0.2618 - loss: 1.7883 - val_accuracy: 0.3109 - val_loss: 1.7536 - learning_rate: 1.0000e-03\n",
            "Epoch 5/75\n",
            "\n",
            "Epoch 5: val_loss improved from 1.75362 to 1.71907, saving model to best_model.h5\n"
          ]
        },
        {
          "output_type": "stream",
          "name": "stderr",
          "text": [
            "WARNING:absl:You are saving your model as an HDF5 file via `model.save()` or `keras.saving.save_model(model)`. This file format is considered legacy. We recommend using instead the native Keras format, e.g. `model.save('my_model.keras')` or `keras.saving.save_model(model, 'my_model.keras')`. \n"
          ]
        },
        {
          "output_type": "stream",
          "name": "stdout",
          "text": [
            "57/57 - 1s - 15ms/step - accuracy: 0.2963 - loss: 1.7480 - val_accuracy: 0.2746 - val_loss: 1.7191 - learning_rate: 1.0000e-03\n",
            "Epoch 6/75\n",
            "\n",
            "Epoch 6: val_loss improved from 1.71907 to 1.68298, saving model to best_model.h5\n"
          ]
        },
        {
          "output_type": "stream",
          "name": "stderr",
          "text": [
            "WARNING:absl:You are saving your model as an HDF5 file via `model.save()` or `keras.saving.save_model(model)`. This file format is considered legacy. We recommend using instead the native Keras format, e.g. `model.save('my_model.keras')` or `keras.saving.save_model(model, 'my_model.keras')`. \n"
          ]
        },
        {
          "output_type": "stream",
          "name": "stdout",
          "text": [
            "57/57 - 1s - 14ms/step - accuracy: 0.2941 - loss: 1.7237 - val_accuracy: 0.3316 - val_loss: 1.6830 - learning_rate: 1.0000e-03\n",
            "Epoch 7/75\n",
            "\n",
            "Epoch 7: val_loss improved from 1.68298 to 1.65802, saving model to best_model.h5\n"
          ]
        },
        {
          "output_type": "stream",
          "name": "stderr",
          "text": [
            "WARNING:absl:You are saving your model as an HDF5 file via `model.save()` or `keras.saving.save_model(model)`. This file format is considered legacy. We recommend using instead the native Keras format, e.g. `model.save('my_model.keras')` or `keras.saving.save_model(model, 'my_model.keras')`. \n"
          ]
        },
        {
          "output_type": "stream",
          "name": "stdout",
          "text": [
            "57/57 - 1s - 15ms/step - accuracy: 0.3146 - loss: 1.7019 - val_accuracy: 0.3446 - val_loss: 1.6580 - learning_rate: 1.0000e-03\n",
            "Epoch 8/75\n",
            "\n",
            "Epoch 8: val_loss did not improve from 1.65802\n",
            "57/57 - 1s - 13ms/step - accuracy: 0.3046 - loss: 1.6759 - val_accuracy: 0.3575 - val_loss: 1.6663 - learning_rate: 1.0000e-03\n",
            "Epoch 9/75\n",
            "\n",
            "Epoch 9: val_loss improved from 1.65802 to 1.62745, saving model to best_model.h5\n"
          ]
        },
        {
          "output_type": "stream",
          "name": "stderr",
          "text": [
            "WARNING:absl:You are saving your model as an HDF5 file via `model.save()` or `keras.saving.save_model(model)`. This file format is considered legacy. We recommend using instead the native Keras format, e.g. `model.save('my_model.keras')` or `keras.saving.save_model(model, 'my_model.keras')`. \n"
          ]
        },
        {
          "output_type": "stream",
          "name": "stdout",
          "text": [
            "57/57 - 1s - 20ms/step - accuracy: 0.3085 - loss: 1.6587 - val_accuracy: 0.3549 - val_loss: 1.6275 - learning_rate: 1.0000e-03\n",
            "Epoch 10/75\n",
            "\n",
            "Epoch 10: val_loss improved from 1.62745 to 1.58976, saving model to best_model.h5\n"
          ]
        },
        {
          "output_type": "stream",
          "name": "stderr",
          "text": [
            "WARNING:absl:You are saving your model as an HDF5 file via `model.save()` or `keras.saving.save_model(model)`. This file format is considered legacy. We recommend using instead the native Keras format, e.g. `model.save('my_model.keras')` or `keras.saving.save_model(model, 'my_model.keras')`. \n"
          ]
        },
        {
          "output_type": "stream",
          "name": "stdout",
          "text": [
            "57/57 - 1s - 22ms/step - accuracy: 0.3224 - loss: 1.6275 - val_accuracy: 0.3394 - val_loss: 1.5898 - learning_rate: 1.0000e-03\n",
            "Epoch 11/75\n",
            "\n",
            "Epoch 11: val_loss improved from 1.58976 to 1.55963, saving model to best_model.h5\n"
          ]
        },
        {
          "output_type": "stream",
          "name": "stderr",
          "text": [
            "WARNING:absl:You are saving your model as an HDF5 file via `model.save()` or `keras.saving.save_model(model)`. This file format is considered legacy. We recommend using instead the native Keras format, e.g. `model.save('my_model.keras')` or `keras.saving.save_model(model, 'my_model.keras')`. \n"
          ]
        },
        {
          "output_type": "stream",
          "name": "stdout",
          "text": [
            "57/57 - 1s - 20ms/step - accuracy: 0.3330 - loss: 1.6003 - val_accuracy: 0.3420 - val_loss: 1.5596 - learning_rate: 1.0000e-03\n",
            "Epoch 12/75\n",
            "\n",
            "Epoch 12: val_loss improved from 1.55963 to 1.52649, saving model to best_model.h5\n"
          ]
        },
        {
          "output_type": "stream",
          "name": "stderr",
          "text": [
            "WARNING:absl:You are saving your model as an HDF5 file via `model.save()` or `keras.saving.save_model(model)`. This file format is considered legacy. We recommend using instead the native Keras format, e.g. `model.save('my_model.keras')` or `keras.saving.save_model(model, 'my_model.keras')`. \n"
          ]
        },
        {
          "output_type": "stream",
          "name": "stdout",
          "text": [
            "57/57 - 1s - 15ms/step - accuracy: 0.3374 - loss: 1.5707 - val_accuracy: 0.4041 - val_loss: 1.5265 - learning_rate: 1.0000e-03\n",
            "Epoch 13/75\n",
            "\n",
            "Epoch 13: val_loss improved from 1.52649 to 1.51945, saving model to best_model.h5\n"
          ]
        },
        {
          "output_type": "stream",
          "name": "stderr",
          "text": [
            "WARNING:absl:You are saving your model as an HDF5 file via `model.save()` or `keras.saving.save_model(model)`. This file format is considered legacy. We recommend using instead the native Keras format, e.g. `model.save('my_model.keras')` or `keras.saving.save_model(model, 'my_model.keras')`. \n"
          ]
        },
        {
          "output_type": "stream",
          "name": "stdout",
          "text": [
            "57/57 - 1s - 14ms/step - accuracy: 0.3524 - loss: 1.5484 - val_accuracy: 0.3549 - val_loss: 1.5194 - learning_rate: 1.0000e-03\n",
            "Epoch 14/75\n",
            "\n",
            "Epoch 14: val_loss improved from 1.51945 to 1.50364, saving model to best_model.h5\n"
          ]
        },
        {
          "output_type": "stream",
          "name": "stderr",
          "text": [
            "WARNING:absl:You are saving your model as an HDF5 file via `model.save()` or `keras.saving.save_model(model)`. This file format is considered legacy. We recommend using instead the native Keras format, e.g. `model.save('my_model.keras')` or `keras.saving.save_model(model, 'my_model.keras')`. \n"
          ]
        },
        {
          "output_type": "stream",
          "name": "stdout",
          "text": [
            "57/57 - 1s - 15ms/step - accuracy: 0.3752 - loss: 1.5325 - val_accuracy: 0.4145 - val_loss: 1.5036 - learning_rate: 1.0000e-03\n",
            "Epoch 15/75\n",
            "\n",
            "Epoch 15: val_loss did not improve from 1.50364\n",
            "57/57 - 1s - 14ms/step - accuracy: 0.3730 - loss: 1.5221 - val_accuracy: 0.4119 - val_loss: 1.5198 - learning_rate: 1.0000e-03\n",
            "Epoch 16/75\n",
            "\n",
            "Epoch 16: val_loss improved from 1.50364 to 1.46557, saving model to best_model.h5\n"
          ]
        },
        {
          "output_type": "stream",
          "name": "stderr",
          "text": [
            "WARNING:absl:You are saving your model as an HDF5 file via `model.save()` or `keras.saving.save_model(model)`. This file format is considered legacy. We recommend using instead the native Keras format, e.g. `model.save('my_model.keras')` or `keras.saving.save_model(model, 'my_model.keras')`. \n"
          ]
        },
        {
          "output_type": "stream",
          "name": "stdout",
          "text": [
            "57/57 - 1s - 14ms/step - accuracy: 0.3986 - loss: 1.4784 - val_accuracy: 0.4093 - val_loss: 1.4656 - learning_rate: 1.0000e-03\n",
            "Epoch 17/75\n",
            "\n",
            "Epoch 17: val_loss did not improve from 1.46557\n",
            "57/57 - 1s - 13ms/step - accuracy: 0.4141 - loss: 1.4679 - val_accuracy: 0.4171 - val_loss: 1.4817 - learning_rate: 1.0000e-03\n",
            "Epoch 18/75\n",
            "\n",
            "Epoch 18: val_loss did not improve from 1.46557\n",
            "57/57 - 1s - 13ms/step - accuracy: 0.4024 - loss: 1.4577 - val_accuracy: 0.3886 - val_loss: 1.4847 - learning_rate: 1.0000e-03\n",
            "Epoch 19/75\n",
            "\n",
            "Epoch 19: val_loss improved from 1.46557 to 1.43950, saving model to best_model.h5\n"
          ]
        },
        {
          "output_type": "stream",
          "name": "stderr",
          "text": [
            "WARNING:absl:You are saving your model as an HDF5 file via `model.save()` or `keras.saving.save_model(model)`. This file format is considered legacy. We recommend using instead the native Keras format, e.g. `model.save('my_model.keras')` or `keras.saving.save_model(model, 'my_model.keras')`. \n"
          ]
        },
        {
          "output_type": "stream",
          "name": "stdout",
          "text": [
            "57/57 - 1s - 14ms/step - accuracy: 0.4180 - loss: 1.4344 - val_accuracy: 0.4016 - val_loss: 1.4395 - learning_rate: 1.0000e-03\n",
            "Epoch 20/75\n",
            "\n",
            "Epoch 20: val_loss improved from 1.43950 to 1.41358, saving model to best_model.h5\n"
          ]
        },
        {
          "output_type": "stream",
          "name": "stderr",
          "text": [
            "WARNING:absl:You are saving your model as an HDF5 file via `model.save()` or `keras.saving.save_model(model)`. This file format is considered legacy. We recommend using instead the native Keras format, e.g. `model.save('my_model.keras')` or `keras.saving.save_model(model, 'my_model.keras')`. \n"
          ]
        },
        {
          "output_type": "stream",
          "name": "stdout",
          "text": [
            "57/57 - 1s - 14ms/step - accuracy: 0.4136 - loss: 1.4325 - val_accuracy: 0.4275 - val_loss: 1.4136 - learning_rate: 1.0000e-03\n",
            "Epoch 21/75\n",
            "\n",
            "Epoch 21: val_loss improved from 1.41358 to 1.40121, saving model to best_model.h5\n"
          ]
        },
        {
          "output_type": "stream",
          "name": "stderr",
          "text": [
            "WARNING:absl:You are saving your model as an HDF5 file via `model.save()` or `keras.saving.save_model(model)`. This file format is considered legacy. We recommend using instead the native Keras format, e.g. `model.save('my_model.keras')` or `keras.saving.save_model(model, 'my_model.keras')`. \n"
          ]
        },
        {
          "output_type": "stream",
          "name": "stdout",
          "text": [
            "57/57 - 1s - 15ms/step - accuracy: 0.4291 - loss: 1.4029 - val_accuracy: 0.4352 - val_loss: 1.4012 - learning_rate: 1.0000e-03\n",
            "Epoch 22/75\n",
            "\n",
            "Epoch 22: val_loss did not improve from 1.40121\n",
            "57/57 - 1s - 13ms/step - accuracy: 0.4391 - loss: 1.3891 - val_accuracy: 0.4067 - val_loss: 1.4398 - learning_rate: 1.0000e-03\n",
            "Epoch 23/75\n",
            "\n",
            "Epoch 23: val_loss improved from 1.40121 to 1.38522, saving model to best_model.h5\n"
          ]
        },
        {
          "output_type": "stream",
          "name": "stderr",
          "text": [
            "WARNING:absl:You are saving your model as an HDF5 file via `model.save()` or `keras.saving.save_model(model)`. This file format is considered legacy. We recommend using instead the native Keras format, e.g. `model.save('my_model.keras')` or `keras.saving.save_model(model, 'my_model.keras')`. \n"
          ]
        },
        {
          "output_type": "stream",
          "name": "stdout",
          "text": [
            "57/57 - 1s - 16ms/step - accuracy: 0.4325 - loss: 1.3897 - val_accuracy: 0.4456 - val_loss: 1.3852 - learning_rate: 1.0000e-03\n",
            "Epoch 24/75\n",
            "\n",
            "Epoch 24: val_loss improved from 1.38522 to 1.36660, saving model to best_model.h5\n"
          ]
        },
        {
          "output_type": "stream",
          "name": "stderr",
          "text": [
            "WARNING:absl:You are saving your model as an HDF5 file via `model.save()` or `keras.saving.save_model(model)`. This file format is considered legacy. We recommend using instead the native Keras format, e.g. `model.save('my_model.keras')` or `keras.saving.save_model(model, 'my_model.keras')`. \n"
          ]
        },
        {
          "output_type": "stream",
          "name": "stdout",
          "text": [
            "57/57 - 1s - 20ms/step - accuracy: 0.4464 - loss: 1.3656 - val_accuracy: 0.4456 - val_loss: 1.3666 - learning_rate: 1.0000e-03\n",
            "Epoch 25/75\n",
            "\n",
            "Epoch 25: val_loss did not improve from 1.36660\n",
            "57/57 - 1s - 19ms/step - accuracy: 0.4597 - loss: 1.3513 - val_accuracy: 0.4378 - val_loss: 1.3765 - learning_rate: 1.0000e-03\n",
            "Epoch 26/75\n",
            "\n",
            "Epoch 26: val_loss improved from 1.36660 to 1.33052, saving model to best_model.h5\n"
          ]
        },
        {
          "output_type": "stream",
          "name": "stderr",
          "text": [
            "WARNING:absl:You are saving your model as an HDF5 file via `model.save()` or `keras.saving.save_model(model)`. This file format is considered legacy. We recommend using instead the native Keras format, e.g. `model.save('my_model.keras')` or `keras.saving.save_model(model, 'my_model.keras')`. \n"
          ]
        },
        {
          "output_type": "stream",
          "name": "stdout",
          "text": [
            "57/57 - 1s - 18ms/step - accuracy: 0.4675 - loss: 1.3373 - val_accuracy: 0.4793 - val_loss: 1.3305 - learning_rate: 1.0000e-03\n",
            "Epoch 27/75\n",
            "\n",
            "Epoch 27: val_loss improved from 1.33052 to 1.32017, saving model to best_model.h5\n"
          ]
        },
        {
          "output_type": "stream",
          "name": "stderr",
          "text": [
            "WARNING:absl:You are saving your model as an HDF5 file via `model.save()` or `keras.saving.save_model(model)`. This file format is considered legacy. We recommend using instead the native Keras format, e.g. `model.save('my_model.keras')` or `keras.saving.save_model(model, 'my_model.keras')`. \n"
          ]
        },
        {
          "output_type": "stream",
          "name": "stdout",
          "text": [
            "57/57 - 1s - 15ms/step - accuracy: 0.4764 - loss: 1.3112 - val_accuracy: 0.4663 - val_loss: 1.3202 - learning_rate: 1.0000e-03\n",
            "Epoch 28/75\n",
            "\n",
            "Epoch 28: val_loss improved from 1.32017 to 1.30282, saving model to best_model.h5\n"
          ]
        },
        {
          "output_type": "stream",
          "name": "stderr",
          "text": [
            "WARNING:absl:You are saving your model as an HDF5 file via `model.save()` or `keras.saving.save_model(model)`. This file format is considered legacy. We recommend using instead the native Keras format, e.g. `model.save('my_model.keras')` or `keras.saving.save_model(model, 'my_model.keras')`. \n"
          ]
        },
        {
          "output_type": "stream",
          "name": "stdout",
          "text": [
            "57/57 - 1s - 14ms/step - accuracy: 0.4819 - loss: 1.3078 - val_accuracy: 0.4793 - val_loss: 1.3028 - learning_rate: 1.0000e-03\n",
            "Epoch 29/75\n",
            "\n",
            "Epoch 29: val_loss did not improve from 1.30282\n",
            "57/57 - 1s - 13ms/step - accuracy: 0.4825 - loss: 1.3002 - val_accuracy: 0.4948 - val_loss: 1.3233 - learning_rate: 1.0000e-03\n",
            "Epoch 30/75\n",
            "\n",
            "Epoch 30: val_loss did not improve from 1.30282\n",
            "57/57 - 1s - 13ms/step - accuracy: 0.4981 - loss: 1.2836 - val_accuracy: 0.4819 - val_loss: 1.3039 - learning_rate: 1.0000e-03\n",
            "Epoch 31/75\n",
            "\n",
            "Epoch 31: val_loss improved from 1.30282 to 1.28934, saving model to best_model.h5\n"
          ]
        },
        {
          "output_type": "stream",
          "name": "stderr",
          "text": [
            "WARNING:absl:You are saving your model as an HDF5 file via `model.save()` or `keras.saving.save_model(model)`. This file format is considered legacy. We recommend using instead the native Keras format, e.g. `model.save('my_model.keras')` or `keras.saving.save_model(model, 'my_model.keras')`. \n"
          ]
        },
        {
          "output_type": "stream",
          "name": "stdout",
          "text": [
            "57/57 - 1s - 15ms/step - accuracy: 0.5120 - loss: 1.2731 - val_accuracy: 0.5026 - val_loss: 1.2893 - learning_rate: 1.0000e-03\n",
            "Epoch 32/75\n",
            "\n",
            "Epoch 32: val_loss did not improve from 1.28934\n",
            "57/57 - 1s - 21ms/step - accuracy: 0.5197 - loss: 1.2543 - val_accuracy: 0.4922 - val_loss: 1.3134 - learning_rate: 1.0000e-03\n",
            "Epoch 33/75\n",
            "\n",
            "Epoch 33: val_loss improved from 1.28934 to 1.28009, saving model to best_model.h5\n"
          ]
        },
        {
          "output_type": "stream",
          "name": "stderr",
          "text": [
            "WARNING:absl:You are saving your model as an HDF5 file via `model.save()` or `keras.saving.save_model(model)`. This file format is considered legacy. We recommend using instead the native Keras format, e.g. `model.save('my_model.keras')` or `keras.saving.save_model(model, 'my_model.keras')`. \n"
          ]
        },
        {
          "output_type": "stream",
          "name": "stdout",
          "text": [
            "57/57 - 1s - 15ms/step - accuracy: 0.5069 - loss: 1.2500 - val_accuracy: 0.5052 - val_loss: 1.2801 - learning_rate: 1.0000e-03\n",
            "Epoch 34/75\n",
            "\n",
            "Epoch 34: val_loss did not improve from 1.28009\n",
            "57/57 - 1s - 20ms/step - accuracy: 0.5120 - loss: 1.2474 - val_accuracy: 0.5104 - val_loss: 1.2988 - learning_rate: 1.0000e-03\n",
            "Epoch 35/75\n",
            "\n",
            "Epoch 35: val_loss did not improve from 1.28009\n",
            "57/57 - 1s - 14ms/step - accuracy: 0.5314 - loss: 1.2199 - val_accuracy: 0.5311 - val_loss: 1.2811 - learning_rate: 1.0000e-03\n",
            "Epoch 36/75\n",
            "\n",
            "Epoch 36: val_loss improved from 1.28009 to 1.23268, saving model to best_model.h5\n"
          ]
        },
        {
          "output_type": "stream",
          "name": "stderr",
          "text": [
            "WARNING:absl:You are saving your model as an HDF5 file via `model.save()` or `keras.saving.save_model(model)`. This file format is considered legacy. We recommend using instead the native Keras format, e.g. `model.save('my_model.keras')` or `keras.saving.save_model(model, 'my_model.keras')`. \n"
          ]
        },
        {
          "output_type": "stream",
          "name": "stdout",
          "text": [
            "57/57 - 1s - 14ms/step - accuracy: 0.5364 - loss: 1.2008 - val_accuracy: 0.5259 - val_loss: 1.2327 - learning_rate: 1.0000e-03\n",
            "Epoch 37/75\n",
            "\n",
            "Epoch 37: val_loss did not improve from 1.23268\n",
            "57/57 - 1s - 14ms/step - accuracy: 0.5470 - loss: 1.1875 - val_accuracy: 0.5181 - val_loss: 1.2546 - learning_rate: 1.0000e-03\n",
            "Epoch 38/75\n",
            "\n",
            "Epoch 38: val_loss improved from 1.23268 to 1.22813, saving model to best_model.h5\n"
          ]
        },
        {
          "output_type": "stream",
          "name": "stderr",
          "text": [
            "WARNING:absl:You are saving your model as an HDF5 file via `model.save()` or `keras.saving.save_model(model)`. This file format is considered legacy. We recommend using instead the native Keras format, e.g. `model.save('my_model.keras')` or `keras.saving.save_model(model, 'my_model.keras')`. \n"
          ]
        },
        {
          "output_type": "stream",
          "name": "stdout",
          "text": [
            "57/57 - 1s - 20ms/step - accuracy: 0.5514 - loss: 1.1781 - val_accuracy: 0.5233 - val_loss: 1.2281 - learning_rate: 1.0000e-03\n",
            "Epoch 39/75\n",
            "\n",
            "Epoch 39: val_loss improved from 1.22813 to 1.21910, saving model to best_model.h5\n"
          ]
        },
        {
          "output_type": "stream",
          "name": "stderr",
          "text": [
            "WARNING:absl:You are saving your model as an HDF5 file via `model.save()` or `keras.saving.save_model(model)`. This file format is considered legacy. We recommend using instead the native Keras format, e.g. `model.save('my_model.keras')` or `keras.saving.save_model(model, 'my_model.keras')`. \n"
          ]
        },
        {
          "output_type": "stream",
          "name": "stdout",
          "text": [
            "57/57 - 1s - 23ms/step - accuracy: 0.5536 - loss: 1.1743 - val_accuracy: 0.5233 - val_loss: 1.2191 - learning_rate: 1.0000e-03\n",
            "Epoch 40/75\n",
            "\n",
            "Epoch 40: val_loss improved from 1.21910 to 1.20293, saving model to best_model.h5\n"
          ]
        },
        {
          "output_type": "stream",
          "name": "stderr",
          "text": [
            "WARNING:absl:You are saving your model as an HDF5 file via `model.save()` or `keras.saving.save_model(model)`. This file format is considered legacy. We recommend using instead the native Keras format, e.g. `model.save('my_model.keras')` or `keras.saving.save_model(model, 'my_model.keras')`. \n"
          ]
        },
        {
          "output_type": "stream",
          "name": "stdout",
          "text": [
            "57/57 - 1s - 17ms/step - accuracy: 0.5553 - loss: 1.1572 - val_accuracy: 0.5259 - val_loss: 1.2029 - learning_rate: 1.0000e-03\n",
            "Epoch 41/75\n",
            "\n",
            "Epoch 41: val_loss did not improve from 1.20293\n",
            "57/57 - 1s - 13ms/step - accuracy: 0.5681 - loss: 1.1453 - val_accuracy: 0.5285 - val_loss: 1.2092 - learning_rate: 1.0000e-03\n",
            "Epoch 42/75\n",
            "\n",
            "Epoch 42: val_loss improved from 1.20293 to 1.17407, saving model to best_model.h5\n"
          ]
        },
        {
          "output_type": "stream",
          "name": "stderr",
          "text": [
            "WARNING:absl:You are saving your model as an HDF5 file via `model.save()` or `keras.saving.save_model(model)`. This file format is considered legacy. We recommend using instead the native Keras format, e.g. `model.save('my_model.keras')` or `keras.saving.save_model(model, 'my_model.keras')`. \n"
          ]
        },
        {
          "output_type": "stream",
          "name": "stdout",
          "text": [
            "57/57 - 1s - 14ms/step - accuracy: 0.5559 - loss: 1.1630 - val_accuracy: 0.5544 - val_loss: 1.1741 - learning_rate: 1.0000e-03\n",
            "Epoch 43/75\n",
            "\n",
            "Epoch 43: val_loss did not improve from 1.17407\n",
            "57/57 - 1s - 13ms/step - accuracy: 0.5870 - loss: 1.1223 - val_accuracy: 0.5492 - val_loss: 1.1775 - learning_rate: 1.0000e-03\n",
            "Epoch 44/75\n",
            "\n",
            "Epoch 44: val_loss improved from 1.17407 to 1.17345, saving model to best_model.h5\n"
          ]
        },
        {
          "output_type": "stream",
          "name": "stderr",
          "text": [
            "WARNING:absl:You are saving your model as an HDF5 file via `model.save()` or `keras.saving.save_model(model)`. This file format is considered legacy. We recommend using instead the native Keras format, e.g. `model.save('my_model.keras')` or `keras.saving.save_model(model, 'my_model.keras')`. \n"
          ]
        },
        {
          "output_type": "stream",
          "name": "stdout",
          "text": [
            "57/57 - 1s - 14ms/step - accuracy: 0.5798 - loss: 1.1109 - val_accuracy: 0.5596 - val_loss: 1.1734 - learning_rate: 1.0000e-03\n",
            "Epoch 45/75\n",
            "\n",
            "Epoch 45: val_loss did not improve from 1.17345\n",
            "57/57 - 1s - 13ms/step - accuracy: 0.5770 - loss: 1.1079 - val_accuracy: 0.5492 - val_loss: 1.1760 - learning_rate: 1.0000e-03\n",
            "Epoch 46/75\n",
            "\n",
            "Epoch 46: val_loss did not improve from 1.17345\n",
            "57/57 - 1s - 13ms/step - accuracy: 0.5909 - loss: 1.0956 - val_accuracy: 0.5311 - val_loss: 1.1952 - learning_rate: 1.0000e-03\n",
            "Epoch 47/75\n",
            "\n",
            "Epoch 47: ReduceLROnPlateau reducing learning rate to 0.0005000000237487257.\n",
            "\n",
            "Epoch 47: val_loss did not improve from 1.17345\n",
            "57/57 - 1s - 13ms/step - accuracy: 0.5948 - loss: 1.0813 - val_accuracy: 0.5207 - val_loss: 1.2110 - learning_rate: 1.0000e-03\n",
            "Epoch 48/75\n",
            "\n",
            "Epoch 48: val_loss improved from 1.17345 to 1.14564, saving model to best_model.h5\n"
          ]
        },
        {
          "output_type": "stream",
          "name": "stderr",
          "text": [
            "WARNING:absl:You are saving your model as an HDF5 file via `model.save()` or `keras.saving.save_model(model)`. This file format is considered legacy. We recommend using instead the native Keras format, e.g. `model.save('my_model.keras')` or `keras.saving.save_model(model, 'my_model.keras')`. \n"
          ]
        },
        {
          "output_type": "stream",
          "name": "stdout",
          "text": [
            "57/57 - 1s - 14ms/step - accuracy: 0.6031 - loss: 1.0592 - val_accuracy: 0.5648 - val_loss: 1.1456 - learning_rate: 5.0000e-04\n",
            "Epoch 49/75\n",
            "\n",
            "Epoch 49: val_loss improved from 1.14564 to 1.12993, saving model to best_model.h5\n"
          ]
        },
        {
          "output_type": "stream",
          "name": "stderr",
          "text": [
            "WARNING:absl:You are saving your model as an HDF5 file via `model.save()` or `keras.saving.save_model(model)`. This file format is considered legacy. We recommend using instead the native Keras format, e.g. `model.save('my_model.keras')` or `keras.saving.save_model(model, 'my_model.keras')`. \n"
          ]
        },
        {
          "output_type": "stream",
          "name": "stdout",
          "text": [
            "57/57 - 1s - 14ms/step - accuracy: 0.6215 - loss: 1.0277 - val_accuracy: 0.5596 - val_loss: 1.1299 - learning_rate: 5.0000e-04\n",
            "Epoch 50/75\n",
            "\n",
            "Epoch 50: val_loss improved from 1.12993 to 1.11406, saving model to best_model.h5\n"
          ]
        },
        {
          "output_type": "stream",
          "name": "stderr",
          "text": [
            "WARNING:absl:You are saving your model as an HDF5 file via `model.save()` or `keras.saving.save_model(model)`. This file format is considered legacy. We recommend using instead the native Keras format, e.g. `model.save('my_model.keras')` or `keras.saving.save_model(model, 'my_model.keras')`. \n"
          ]
        },
        {
          "output_type": "stream",
          "name": "stdout",
          "text": [
            "57/57 - 1s - 15ms/step - accuracy: 0.6326 - loss: 1.0156 - val_accuracy: 0.5674 - val_loss: 1.1141 - learning_rate: 5.0000e-04\n",
            "Epoch 51/75\n",
            "\n",
            "Epoch 51: val_loss did not improve from 1.11406\n",
            "57/57 - 1s - 13ms/step - accuracy: 0.6287 - loss: 1.0152 - val_accuracy: 0.5570 - val_loss: 1.1167 - learning_rate: 5.0000e-04\n",
            "Epoch 52/75\n",
            "\n",
            "Epoch 52: val_loss did not improve from 1.11406\n",
            "57/57 - 1s - 13ms/step - accuracy: 0.6259 - loss: 1.0041 - val_accuracy: 0.5466 - val_loss: 1.1292 - learning_rate: 5.0000e-04\n",
            "Epoch 53/75\n",
            "\n",
            "Epoch 53: ReduceLROnPlateau reducing learning rate to 0.0002500000118743628.\n",
            "\n",
            "Epoch 53: val_loss did not improve from 1.11406\n",
            "57/57 - 1s - 18ms/step - accuracy: 0.6320 - loss: 1.0150 - val_accuracy: 0.5648 - val_loss: 1.1176 - learning_rate: 5.0000e-04\n",
            "Epoch 54/75\n",
            "\n",
            "Epoch 54: val_loss improved from 1.11406 to 1.10923, saving model to best_model.h5\n"
          ]
        },
        {
          "output_type": "stream",
          "name": "stderr",
          "text": [
            "WARNING:absl:You are saving your model as an HDF5 file via `model.save()` or `keras.saving.save_model(model)`. This file format is considered legacy. We recommend using instead the native Keras format, e.g. `model.save('my_model.keras')` or `keras.saving.save_model(model, 'my_model.keras')`. \n"
          ]
        },
        {
          "output_type": "stream",
          "name": "stdout",
          "text": [
            "57/57 - 1s - 20ms/step - accuracy: 0.6481 - loss: 0.9896 - val_accuracy: 0.5829 - val_loss: 1.1092 - learning_rate: 2.5000e-04\n",
            "Epoch 55/75\n",
            "\n",
            "Epoch 55: val_loss improved from 1.10923 to 1.09873, saving model to best_model.h5\n"
          ]
        },
        {
          "output_type": "stream",
          "name": "stderr",
          "text": [
            "WARNING:absl:You are saving your model as an HDF5 file via `model.save()` or `keras.saving.save_model(model)`. This file format is considered legacy. We recommend using instead the native Keras format, e.g. `model.save('my_model.keras')` or `keras.saving.save_model(model, 'my_model.keras')`. \n"
          ]
        },
        {
          "output_type": "stream",
          "name": "stdout",
          "text": [
            "57/57 - 1s - 21ms/step - accuracy: 0.6437 - loss: 0.9801 - val_accuracy: 0.5881 - val_loss: 1.0987 - learning_rate: 2.5000e-04\n",
            "Epoch 56/75\n",
            "\n",
            "Epoch 56: val_loss did not improve from 1.09873\n",
            "57/57 - 1s - 14ms/step - accuracy: 0.6559 - loss: 0.9594 - val_accuracy: 0.5544 - val_loss: 1.1073 - learning_rate: 2.5000e-04\n",
            "Epoch 57/75\n",
            "\n",
            "Epoch 57: val_loss did not improve from 1.09873\n",
            "57/57 - 1s - 13ms/step - accuracy: 0.6587 - loss: 0.9527 - val_accuracy: 0.5829 - val_loss: 1.1136 - learning_rate: 2.5000e-04\n",
            "Epoch 58/75\n",
            "\n",
            "Epoch 58: ReduceLROnPlateau reducing learning rate to 0.0001250000059371814.\n",
            "\n",
            "Epoch 58: val_loss did not improve from 1.09873\n",
            "57/57 - 1s - 13ms/step - accuracy: 0.6531 - loss: 0.9553 - val_accuracy: 0.5777 - val_loss: 1.1108 - learning_rate: 2.5000e-04\n",
            "Epoch 59/75\n",
            "\n",
            "Epoch 59: val_loss did not improve from 1.09873\n",
            "57/57 - 1s - 13ms/step - accuracy: 0.6576 - loss: 0.9557 - val_accuracy: 0.5751 - val_loss: 1.1031 - learning_rate: 1.2500e-04\n",
            "Epoch 60/75\n",
            "\n",
            "Epoch 60: val_loss did not improve from 1.09873\n",
            "57/57 - 1s - 13ms/step - accuracy: 0.6626 - loss: 0.9419 - val_accuracy: 0.5622 - val_loss: 1.1138 - learning_rate: 1.2500e-04\n",
            "Epoch 61/75\n",
            "\n",
            "Epoch 61: ReduceLROnPlateau reducing learning rate to 6.25000029685907e-05.\n",
            "\n",
            "Epoch 61: val_loss did not improve from 1.09873\n",
            "57/57 - 1s - 14ms/step - accuracy: 0.6593 - loss: 0.9396 - val_accuracy: 0.5829 - val_loss: 1.1130 - learning_rate: 1.2500e-04\n",
            "Epoch 62/75\n",
            "\n",
            "Epoch 62: val_loss did not improve from 1.09873\n",
            "57/57 - 1s - 22ms/step - accuracy: 0.6704 - loss: 0.9397 - val_accuracy: 0.5803 - val_loss: 1.1120 - learning_rate: 6.2500e-05\n",
            "Epoch 63/75\n",
            "\n",
            "Epoch 63: val_loss did not improve from 1.09873\n",
            "57/57 - 1s - 13ms/step - accuracy: 0.6537 - loss: 0.9421 - val_accuracy: 0.5829 - val_loss: 1.1090 - learning_rate: 6.2500e-05\n",
            "Epoch 63: early stopping\n",
            "Restoring model weights from the end of the best epoch: 55.\n"
          ]
        }
      ]
    },
    {
      "cell_type": "markdown",
      "metadata": {
        "id": "qgh6h0MlV4IA"
      },
      "source": [
        "## Training Curves"
      ]
    },
    {
      "cell_type": "code",
      "metadata": {
        "colab": {
          "base_uri": "https://localhost:8080/",
          "height": 468
        },
        "id": "3hlYHLLBV4IA",
        "outputId": "fa556ce6-86a4-4e08-c848-064435fc6bdc"
      },
      "source": [
        "plt.figure(figsize=(12,5))\n",
        "plt.subplot(1,2,1)\n",
        "plt.plot(history.history['loss'], label='Train Loss')\n",
        "plt.plot(history.history['val_loss'], label='Val Loss')\n",
        "plt.legend(); plt.title('Loss Curves')\n",
        "\n",
        "plt.subplot(1,2,2)\n",
        "plt.plot(history.history['accuracy'], label='Train Acc')\n",
        "plt.plot(history.history['val_accuracy'], label='Val Acc')\n",
        "plt.legend(); plt.title('Accuracy Curves')\n",
        "plt.show()"
      ],
      "execution_count": 10,
      "outputs": [
        {
          "output_type": "display_data",
          "data": {
            "text/plain": [
              "<Figure size 1200x500 with 2 Axes>"
            ],
            "image/png": "[encoded data removed]"
          },
          "metadata": {}
        }
      ]
    },
    {
      "cell_type": "code",
      "source": [
        "model.save(\"final_model.h5\")       # Full model\n"
      ],
      "metadata": {
        "colab": {
          "base_uri": "https://localhost:8080/"
        },
        "id": "_nsZXQLRY0uV",
        "outputId": "b9505835-6d23-49e7-ed6f-cf7d6cec1ac7"
      },
      "execution_count": 12,
      "outputs": [
        {
          "output_type": "stream",
          "name": "stderr",
          "text": [
            "WARNING:absl:You are saving your model as an HDF5 file via `model.save()` or `keras.saving.save_model(model)`. This file format is considered legacy. We recommend using instead the native Keras format, e.g. `model.save('my_model.keras')` or `keras.saving.save_model(model, 'my_model.keras')`. \n"
          ]
        }
      ]
    }
  ],
  "metadata": {
    "kernelspec": {
      "display_name": "Python 3",
      "name": "python3"
    },
    "language_info": {
      "name": "python",
      "version": "3.10"
    },
    "colab": {
      "provenance": [],
      "gpuType": "T4"
    },
    "accelerator": "GPU"
  },
  "nbformat": 4,
  "nbformat_minor": 0
}